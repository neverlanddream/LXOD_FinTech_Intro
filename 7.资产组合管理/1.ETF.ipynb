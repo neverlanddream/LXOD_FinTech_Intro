{
 "cells": [
  {
   "cell_type": "markdown",
   "metadata": {
    "collapsed": true,
    "pycharm": {
     "name": "#%% md\n"
    }
   },
   "source": [
    "APs(Authorized Participants): Market Maker（一级市场）：会产生1.交易成本 2.管理费：bid-ask spread——>转嫁成本到个人投资者\n",
    "Creation basket(一篮子股票)\n",
    "Creation unit(份额大小)\n",
    "\n",
    "二级市场（买卖ETF）\n",
    "\n",
    "1.场内（二级市场买卖，场内交易）：一般来说个人投资者是在二级市场直接买卖ETF-ETF联结基金（ETF-LOF）\n",
    "2.场外（一级市场申购赎回：特点基金份额会变动）：是拿一篮子股票\n",
    "\n",
    "3.存在场内场外的套利机会，偏离度不会很大\n",
    "4.一般存在机会的情况：\n",
    "4.1交易极其不活跃\n",
    "4.2不同时区套利\n",
    "\n",
    "\n",
    "ETF套利流程（考虑到市场容量以及流动性）：\n",
    "\n",
    "1.场内价值（Price）>场外净值（Value）:\n",
    "场外申购->场内卖出\n",
    "\n",
    "2.场内价值（Price）< 场外净值（Value）\n",
    "场内买入->场外赎回\n",
    "\n",
    "3.场内价值（Price）= 场外净值（Value）\n",
    "\n",
    "\n",
    "交易所行情（比较权威稳定url，结构，大胆的使用爬虫）：\n",
    "http://www.sse.com.cn/assortment/fund/etf/price/\n",
    "\n",
    "三方机构获取折价溢价信息：\n",
    "http://fund.eastmoney.com/ETFN_jzzzl.html\n",
    "\n",
    "最佳的方式是通过稳定、权威的金融数据服务公司进行接口调取\n",
    "\n",
    "Spread中透露的信息(分析框架，同样的数据，不同的人可以看到不同的信息)：\n",
    "\n",
    "ETF spread = 1创建与注销share所需要的成本以及其他的交易成本 +\n",
    "2.一篮子股票的标的股票的spread + 3.风险溢价（持有到今天收盘结束的风险）+ 4.AP要赚取的钱\n",
    "- 5.折价（因为你可以有机会在二级市场对冲调你的头寸）\n",
    "\n",
    "1.1157\n",
    "\n",
    "1.1123"
   ]
  }
 ],
 "metadata": {
  "kernelspec": {
   "name": "pycharm-9607c1d0",
   "language": "python",
   "display_name": "PyCharm (sklearn)"
  },
  "language_info": {
   "codemirror_mode": {
    "name": "ipython",
    "version": 2
   },
   "file_extension": ".py",
   "mimetype": "text/x-python",
   "name": "python",
   "nbconvert_exporter": "python",
   "pygments_lexer": "ipython2",
   "version": "2.7.6"
  }
 },
 "nbformat": 4,
 "nbformat_minor": 0
}